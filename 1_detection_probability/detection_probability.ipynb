{
 "cells": [
  {
   "cell_type": "markdown",
   "metadata": {},
   "source": [
    "# Detection probability"
   ]
  },
  {
   "cell_type": "markdown",
   "metadata": {},
   "source": [
    "..."
   ]
  },
  {
   "cell_type": "code",
   "execution_count": 1,
   "metadata": {
    "ExecuteTime": {
     "end_time": "2020-07-19T11:34:45.780528Z",
     "start_time": "2020-07-19T11:34:45.237782Z"
    }
   },
   "outputs": [],
   "source": [
    "import numpy as np\n",
    "import h5py\n",
    "from matplotlib import pyplot as plt\n",
    "\n",
    "import sys\n",
    "sys.path.append(\"../../icecube_tools/\")\n",
    "\n",
    "colormap = plt.cm.viridis"
   ]
  },
  {
   "cell_type": "code",
   "execution_count": 2,
   "metadata": {
    "ExecuteTime": {
     "end_time": "2020-07-19T11:34:47.264250Z",
     "start_time": "2020-07-19T11:34:45.844305Z"
    }
   },
   "outputs": [],
   "source": [
    "from icecube_tools.detection_probability import (get_simulated_params, \n",
    "                                                 get_detection_probability)\n",
    "from icecube_tools.detection_probability import get_TS_threshold\n",
    "from icecube_tools.detection_probability import fit_func\n",
    "from icecube_tools.detector.effective_area import EffectiveArea\n",
    "from icecube_tools.neutrino_calculator import PhiSolver\n",
    "from scipy.ndimage.filters import gaussian_filter1d"
   ]
  },
  {
   "cell_type": "markdown",
   "metadata": {},
   "source": [
    "## Simulation of neutrino detection in IceCube"
   ]
  },
  {
   "cell_type": "markdown",
   "metadata": {},
   "source": [
    "## Point source search on simulated data"
   ]
  },
  {
   "cell_type": "markdown",
   "metadata": {},
   "source": [
    "## Calculation of detection probability\n",
    "This calculation is quite slow (~20 min), but can be run once and the resulting `output/precomputed_pdet_XXX.h5` files can be used in the subsequent sections. These files are provided such that the reader can just skip ahead to the discovery potential comparison.  "
   ]
  },
  {
   "cell_type": "code",
   "execution_count": null,
   "metadata": {
    "ExecuteTime": {
     "end_time": "2020-07-19T11:22:19.491764Z",
     "start_time": "2020-07-19T11:22:19.466996Z"
    }
   },
   "outputs": [],
   "source": [
    "from tqdm.autonotebook import tqdm as progress_bar"
   ]
  },
  {
   "cell_type": "code",
   "execution_count": null,
   "metadata": {
    "ExecuteTime": {
     "end_time": "2020-07-19T11:22:29.921253Z",
     "start_time": "2020-07-19T11:22:29.780282Z"
    }
   },
   "outputs": [],
   "source": [
    "# Use background to set TS thresholds\n",
    "bg_file = \"output/TS_dist_bg_30_3_withE_Nevents497.h5\"\n",
    "with h5py.File(bg_file, 'r') as f:\n",
    "    dec_to_sim = f[\"dec_to_sim\"][()]\n",
    "    TS = []\n",
    "    for dec in dec_to_sim:\n",
    "        TS.append(f[\"TS_%.2f\" % dec][()])\n",
    "        \n",
    "fivesig_level = 5.7e-7/2\n",
    "TS_th = np.zeros(len(dec_to_sim))\n",
    "fit_params = []\n",
    "for i, dec in enumerate(dec_to_sim):\n",
    "    TS_th[i], out, _ = get_TS_threshold(abs(TS[i]), fivesig_level, \n",
    "                                        above=max(TS[i])/4) # 6, 10\n",
    "    fit_params.append(out)\n",
    "    \n",
    "ps = np.polyfit(np.sin(dec_to_sim), TS_th, 3)\n",
    "poly = np.poly1d(ps)"
   ]
  },
  {
   "cell_type": "code",
   "execution_count": null,
   "metadata": {
    "ExecuteTime": {
     "start_time": "2020-07-19T11:22:54.677Z"
    }
   },
   "outputs": [],
   "source": [
    "# Use injected source sim to find Pdet given above thresholds\n",
    "source_file = \"output/TS_dist_dec_30_3_6_Nevents497.h5\"\n",
    "dec_to_sim, index_to_sim = get_simulated_params(filename)\n",
    "\n",
    "Pdet_dec = []\n",
    "for i in progress_bar(range(len(dec_to_sim)), desc='Pdet calc'):\n",
    "    dec = dec_to_sim[i]\n",
    "    Pdet_index = []\n",
    "    for j, index in enumerate(index_to_sim):\n",
    "        Nsrc_list, P = get_detection_probability(source_file, index, dec,\n",
    "                                                 poly(np.sin(dec)))\n",
    "        Pdet_index.append(P)\n",
    "    Pdet_dec.append(Pdet_index)\n",
    "Pdet_dec = np.array(Pdet_dec)"
   ]
  },
  {
   "cell_type": "code",
   "execution_count": null,
   "metadata": {
    "ExecuteTime": {
     "start_time": "2020-07-19T11:26:16.633Z"
    }
   },
   "outputs": [],
   "source": [
    "# Write results to file\n",
    "with h5py.File(\"ouput/precomputed_pdet_30_3_6_Nevents497_v1.h5\", 'w') as f:\n",
    "    f.create_dataset(\"dec_to_sim\", data=dec_to_sim)\n",
    "    f.create_dataset(\"index_to_sim\", data=index_to_sim)\n",
    "    f.create_dataset(\"Nsrc_list\", data=Nsrc_list)\n",
    "    for i, dec in enumerate(dec_to_sim):\n",
    "        folder = f.create_group(\"dec_%.2f\" % dec)\n",
    "        for j, index in enumerate(index_to_sim):\n",
    "            subfolder = folder.create_group(\"index_%.2f\" % index)\n",
    "            subfolder.create_dataset(\"Pdet\", data=Pdet_dec[i][j])"
   ]
  },
  {
   "cell_type": "markdown",
   "metadata": {},
   "source": [
    "## Discovery potential comparison"
   ]
  },
  {
   "cell_type": "code",
   "execution_count": 4,
   "metadata": {
    "ExecuteTime": {
     "end_time": "2020-07-19T11:35:00.980029Z",
     "start_time": "2020-07-19T11:35:00.887028Z"
    }
   },
   "outputs": [],
   "source": [
    "precomp_file = \"output/precomputed_pdet_30_3_6_Nevents497.h5\" \n",
    "\n",
    "# Read in data\n",
    "with h5py.File(precomp_file, 'r') as f:\n",
    "    dec_to_sim = f[\"dec_to_sim\"][()]\n",
    "    index_to_sim = f[\"index_to_sim\"][()]\n",
    "    Nsrc_list = f[\"Nsrc_list\"][()]\n",
    "    Pdet_dec = np.zeros((len(dec_to_sim), len(index_to_sim), len(Nsrc_list)))\n",
    "    for i, dec in enumerate(dec_to_sim):\n",
    "        folder = f[\"dec_%.2f\" % dec]\n",
    "        for j, index in enumerate(index_to_sim):\n",
    "            subfolder = folder[\"index_%.2f\" % index]\n",
    "            Pdet_dec[i][j] = subfolder[\"Pdet\"][()]"
   ]
  },
  {
   "cell_type": "code",
   "execution_count": 5,
   "metadata": {
    "ExecuteTime": {
     "end_time": "2020-07-19T11:35:03.060755Z",
     "start_time": "2020-07-19T11:35:03.054575Z"
    }
   },
   "outputs": [],
   "source": [
    "# Find the 50% level that defines the dsicovery potential for each index\n",
    "mean_events = []\n",
    "for j, index in enumerate(index_to_sim):\n",
    "    me = [np.interp(0.5, P, Nsrc_list) for P in np.transpose(Pdet_dec, (1,0,2))[j]]\n",
    "    mean_events.append(me)"
   ]
  },
  {
   "cell_type": "code",
   "execution_count": 6,
   "metadata": {
    "ExecuteTime": {
     "end_time": "2020-07-19T11:35:04.307374Z",
     "start_time": "2020-07-19T11:35:03.879017Z"
    }
   },
   "outputs": [],
   "source": [
    "# Convert expected Nnu from source -> source flux\n",
    "Aeff_filename = \"input/IC86-2012-TabulatedAeff.txt\"\n",
    "effective_area = EffectiveArea(Aeff_filename)\n",
    "\n",
    "phi_solver = PhiSolver(effective_area=effective_area, Emin=1e3, \n",
    "                       time=7.0, max_cosz=0.1, Emax=5e10, Enorm=1e5)\n",
    "\n",
    "flux = []\n",
    "for j, index in enumerate(index_to_sim):\n",
    "    f = [phi_solver(Nnu, np.rad2deg(dec), index) \n",
    "         for Nnu, dec in zip(mean_events[j], dec_to_sim)]\n",
    "    flux.append(f)"
   ]
  },
  {
   "cell_type": "markdown",
   "metadata": {},
   "source": [
    "### Fig. 2"
   ]
  },
  {
   "cell_type": "code",
   "execution_count": 10,
   "metadata": {
    "ExecuteTime": {
     "end_time": "2020-07-19T11:48:47.675058Z",
     "start_time": "2020-07-19T11:48:47.669987Z"
    }
   },
   "outputs": [],
   "source": [
    "# Actual values from Fig. 18 in Aartsen+2019\n",
    "ic_2 = np.loadtxt(\"input/Aartsen+2019_fig18_2.csv\", delimiter=',')\n",
    "ic_2p19 = np.loadtxt(\"input/Aartsen+2019_fig18_2p19.csv\", delimiter=',')"
   ]
  },
  {
   "cell_type": "code",
   "execution_count": 11,
   "metadata": {
    "ExecuteTime": {
     "end_time": "2020-07-19T11:48:49.482489Z",
     "start_time": "2020-07-19T11:48:49.005278Z"
    }
   },
   "outputs": [
    {
     "data": {
      "image/png": "[encoded data removed]",
      "text/plain": [
       "<Figure size 432x360 with 1 Axes>"
      ]
     },
     "metadata": {
      "needs_background": "light"
     },
     "output_type": "display_data"
    }
   ],
   "source": [
    "fig, ax = plt.subplots()\n",
    "fig.set_size_inches((6, 5))\n",
    "colors = colormap(np.linspace(0, 1, 10))\n",
    "\n",
    "ax.plot(np.sin(dec_to_sim), gaussian_filter1d(flux[1], sigma=1.0), color=colors[2],\n",
    "            alpha=0.5, label=\"$\\gamma$ = 2.0\", linestyle='-', lw=6)\n",
    "ax.plot(np.sin(dec_to_sim), gaussian_filter1d(flux[2], sigma=1.0), color=colors[5],\n",
    "            alpha=0.5, label=\"$\\gamma$ = 2.19\", linestyle='-', lw=6)\n",
    "ax.plot(ic_2.T[0], ic_2.T[1], color=colors[2], linestyle='-', \n",
    "        label=\"Aartsen+2019 $\\gamma$ = 2.0\", lw=2)\n",
    "ax.plot(ic_2p19.T[0], ic_2p19.T[1], color=colors[5], linestyle='-', \n",
    "        label=\"Aartsen+2019 $\\gamma$ = 2.19\", lw=2)\n",
    "ax.set_yscale(\"log\")\n",
    "ax.set_ylim(1e-20, 1e-18)\n",
    "ax.legend()\n",
    "ax.set_xlabel(\"sin($\\delta$)\")\n",
    "ax.set_ylabel(\"$\\phi_\\mathrm{dp}$ / $\\mathrm{GeV}^{-1}\\mathrm{cm}^{-2}\\mathrm{s}^{-1}$\");\n",
    "ax.set_xlim(-0.1, 1);"
   ]
  },
  {
   "cell_type": "markdown",
   "metadata": {},
   "source": [
    "## Detection probability"
   ]
  },
  {
   "cell_type": "code",
   "execution_count": null,
   "metadata": {},
   "outputs": [],
   "source": []
  }
 ],
 "metadata": {
  "kernelspec": {
   "display_name": "bayes",
   "language": "python",
   "name": "bayes"
  },
  "language_info": {
   "codemirror_mode": {
    "name": "ipython",
    "version": 3
   },
   "file_extension": ".py",
   "mimetype": "text/x-python",
   "name": "python",
   "nbconvert_exporter": "python",
   "pygments_lexer": "ipython3",
   "version": "3.7.6"
  }
 },
 "nbformat": 4,
 "nbformat_minor": 2
}
