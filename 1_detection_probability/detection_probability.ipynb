{
 "cells": [
  {
   "cell_type": "markdown",
   "metadata": {},
   "source": [
    "# Detection probability"
   ]
  },
  {
   "cell_type": "markdown",
   "metadata": {},
   "source": [
    "In the paper, the detection of individual sources is defined as $\\lambda > 5\\sigma$, where $\\lambda$ is the test statistic resulting from the IceCube point source search. To connect this statement to the source parameters in the hierarchical model, we use simulations of neutrino detection in IceCube for different source parameters. The simulated data is then run through the point search search algorithm to find the detection probability and discovery potential. "
   ]
  },
  {
   "cell_type": "code",
   "execution_count": null,
   "metadata": {
    "ExecuteTime": {
     "end_time": "2020-07-19T15:55:01.742691Z",
     "start_time": "2020-07-19T15:55:01.366022Z"
    }
   },
   "outputs": [],
   "source": [
    "import numpy as np\n",
    "import h5py\n",
    "from matplotlib import pyplot as plt\n",
    "\n",
    "colormap = plt.cm.viridis"
   ]
  },
  {
   "cell_type": "code",
   "execution_count": null,
   "metadata": {
    "ExecuteTime": {
     "end_time": "2020-07-19T15:55:02.816005Z",
     "start_time": "2020-07-19T15:55:01.744932Z"
    }
   },
   "outputs": [],
   "source": [
    "from icecube_tools.detection_probability import (get_simulated_params, \n",
    "                                                 get_detection_probability)\n",
    "from icecube_tools.detection_probability import get_TS_threshold\n",
    "from icecube_tools.detection_probability import fit_func\n",
    "from icecube_tools.detector.effective_area import EffectiveArea\n",
    "from icecube_tools.neutrino_calculator import PhiSolver\n",
    "from scipy.ndimage.filters import gaussian_filter1d"
   ]
  },
  {
   "cell_type": "markdown",
   "metadata": {},
   "source": [
    "## Simulation of neutrino detection in IceCube\n",
    "\n",
    "The simulation makes use of the `icecube_tools` python package. See the following python scripts in the `scripts/` directory of this repository:\n",
    "* `simulate_bg.py`: Background only\n",
    "* `simulate_pl.py`: Power law simulation for reweighting \n",
    "* `simulate_sources_dec.py`: Simulate source events from a range of declinations "
   ]
  },
  {
   "cell_type": "markdown",
   "metadata": {},
   "source": [
    "## Point source search on simulated data\n",
    "\n",
    "The point source search algorithm is implemented following the approach used in Aartsen+2019, and also makes use of the `icecube_tools` package. See the following python scripts in the `scripts` diriectotry of this repository:\n",
    "* `TS_dist_bg.py`: Background only\n",
    "* `TS_dist_dec.py`: Sources over a range of declinations"
   ]
  },
  {
   "cell_type": "markdown",
   "metadata": {},
   "source": [
    "## Calculation of detection probability\n",
    "This calculation is *slow* (~20 min), but can be run once and the resulting `output/precomputed_pdet_XXX.h5` files can be used in the subsequent sections. These files are provided such that the reader can just skip ahead to the discovery potential comparison.  "
   ]
  },
  {
   "cell_type": "code",
   "execution_count": null,
   "metadata": {
    "ExecuteTime": {
     "end_time": "2020-07-19T15:54:38.946213Z",
     "start_time": "2020-07-19T15:54:38.927184Z"
    }
   },
   "outputs": [],
   "source": [
    "from tqdm.autonotebook import tqdm as progress_bar"
   ]
  },
  {
   "cell_type": "code",
   "execution_count": null,
   "metadata": {
    "ExecuteTime": {
     "end_time": "2020-07-19T15:54:40.357096Z",
     "start_time": "2020-07-19T15:54:40.175286Z"
    }
   },
   "outputs": [],
   "source": [
    "# Use background to set TS thresholds\n",
    "bg_file = \"output/TS_dist_bg_30_3_withE_Nevents497.h5\"\n",
    "with h5py.File(bg_file, 'r') as f:\n",
    "    dec_to_sim = f[\"dec_to_sim\"][()]\n",
    "    TS = []\n",
    "    for dec in dec_to_sim:\n",
    "        TS.append(f[\"TS_%.2f\" % dec][()])\n",
    "        \n",
    "fivesig_level = 5.7e-7/2\n",
    "TS_th = np.zeros(len(dec_to_sim))\n",
    "fit_params = []\n",
    "for i, dec in enumerate(dec_to_sim):\n",
    "    TS_th[i], out, _ = get_TS_threshold(abs(TS[i]), fivesig_level, \n",
    "                                        above=max(TS[i])/4) # 6, 10\n",
    "    fit_params.append(out)\n",
    "    \n",
    "ps = np.polyfit(np.sin(dec_to_sim), TS_th, 3)\n",
    "poly = np.poly1d(ps)"
   ]
  },
  {
   "cell_type": "code",
   "execution_count": null,
   "metadata": {
    "ExecuteTime": {
     "start_time": "2020-07-19T15:54:48.293Z"
    }
   },
   "outputs": [],
   "source": [
    "# Use injected source sim to find Pdet given above thresholds\n",
    "source_file = \"output/TS_dist_dec_30_3_6_Nevents497.h5\"\n",
    "dec_to_sim, index_to_sim = get_simulated_params(source_file)\n",
    "\n",
    "Pdet_dec = []\n",
    "for i in progress_bar(range(len(dec_to_sim)), desc='Pdet calc'):\n",
    "    dec = dec_to_sim[i]\n",
    "    Pdet_index = []\n",
    "    for j, index in enumerate(index_to_sim):\n",
    "        Nsrc_list, P = get_detection_probability(source_file, index, dec,\n",
    "                                                 poly(np.sin(dec)))\n",
    "        Pdet_index.append(P)\n",
    "    Pdet_dec.append(Pdet_index)\n",
    "Pdet_dec = np.array(Pdet_dec)"
   ]
  },
  {
   "cell_type": "code",
   "execution_count": null,
   "metadata": {
    "ExecuteTime": {
     "start_time": "2020-07-19T11:26:16.633Z"
    }
   },
   "outputs": [],
   "source": [
    "# Write results to file\n",
    "with h5py.File(\"ouput/precomputed_pdet_30_3_6_Nevents497_v1.h5\", 'w') as f:\n",
    "    f.create_dataset(\"dec_to_sim\", data=dec_to_sim)\n",
    "    f.create_dataset(\"index_to_sim\", data=index_to_sim)\n",
    "    f.create_dataset(\"Nsrc_list\", data=Nsrc_list)\n",
    "    for i, dec in enumerate(dec_to_sim):\n",
    "        folder = f.create_group(\"dec_%.2f\" % dec)\n",
    "        for j, index in enumerate(index_to_sim):\n",
    "            subfolder = folder.create_group(\"index_%.2f\" % index)\n",
    "            subfolder.create_dataset(\"Pdet\", data=Pdet_dec[i][j])"
   ]
  },
  {
   "cell_type": "markdown",
   "metadata": {},
   "source": [
    "## Discovery potential comparison"
   ]
  },
  {
   "cell_type": "code",
   "execution_count": 3,
   "metadata": {
    "ExecuteTime": {
     "end_time": "2020-07-19T15:55:20.109116Z",
     "start_time": "2020-07-19T15:55:20.019831Z"
    }
   },
   "outputs": [],
   "source": [
    "precomp_file = \"output/precomputed_pdet_30_3_6_Nevents497.h5\" \n",
    "\n",
    "# Read in data\n",
    "with h5py.File(precomp_file, 'r') as f:\n",
    "    dec_to_sim = f[\"dec_to_sim\"][()]\n",
    "    index_to_sim = f[\"index_to_sim\"][()]\n",
    "    Nsrc_list = f[\"Nsrc_list\"][()]\n",
    "    Pdet_dec = np.zeros((len(dec_to_sim), len(index_to_sim), len(Nsrc_list)))\n",
    "    for i, dec in enumerate(dec_to_sim):\n",
    "        folder = f[\"dec_%.2f\" % dec]\n",
    "        for j, index in enumerate(index_to_sim):\n",
    "            subfolder = folder[\"index_%.2f\" % index]\n",
    "            Pdet_dec[i][j] = subfolder[\"Pdet\"][()]"
   ]
  },
  {
   "cell_type": "code",
   "execution_count": 4,
   "metadata": {
    "ExecuteTime": {
     "end_time": "2020-07-19T15:55:20.832526Z",
     "start_time": "2020-07-19T15:55:20.826238Z"
    }
   },
   "outputs": [],
   "source": [
    "# Find the 50% level that defines the dsicovery potential for each index\n",
    "mean_events = []\n",
    "for j, index in enumerate(index_to_sim):\n",
    "    me = [np.interp(0.5, P, Nsrc_list) for P in np.transpose(Pdet_dec, (1,0,2))[j]]\n",
    "    mean_events.append(me)"
   ]
  },
  {
   "cell_type": "code",
   "execution_count": 5,
   "metadata": {
    "ExecuteTime": {
     "end_time": "2020-07-19T15:55:24.030732Z",
     "start_time": "2020-07-19T15:55:21.907299Z"
    }
   },
   "outputs": [],
   "source": [
    "# Convert expected Nnu from source -> source flux\n",
    "Aeff_filename = \"input/IC86-2012-TabulatedAeff.txt\"\n",
    "effective_area = EffectiveArea(Aeff_filename)\n",
    "\n",
    "phi_solver = PhiSolver(effective_area=effective_area, Emin=1e3, \n",
    "                       time=7.0, max_cosz=0.1, Emax=5e10, Enorm=1e5)\n",
    "\n",
    "flux = []\n",
    "for j, index in enumerate(index_to_sim):\n",
    "    f = [phi_solver(Nnu, np.rad2deg(dec), index) \n",
    "         for Nnu, dec in zip(mean_events[j], dec_to_sim)]\n",
    "    flux.append(f)"
   ]
  },
  {
   "cell_type": "markdown",
   "metadata": {},
   "source": [
    "### Fig. 2"
   ]
  },
  {
   "cell_type": "code",
   "execution_count": 6,
   "metadata": {
    "ExecuteTime": {
     "end_time": "2020-07-19T15:55:58.268499Z",
     "start_time": "2020-07-19T15:55:58.263197Z"
    }
   },
   "outputs": [],
   "source": [
    "# Actual values from Fig. 18 in Aartsen+2019 for comparison\n",
    "ic_2 = np.loadtxt(\"input/Aartsen+2019_fig18_2.csv\", delimiter=',')\n",
    "ic_2p19 = np.loadtxt(\"input/Aartsen+2019_fig18_2p19.csv\", delimiter=',')"
   ]
  },
  {
   "cell_type": "code",
   "execution_count": 7,
   "metadata": {
    "ExecuteTime": {
     "end_time": "2020-07-19T15:55:59.653656Z",
     "start_time": "2020-07-19T15:55:58.879446Z"
    }
   },
   "outputs": [
    {
     "data": {
      "image/png": "[encoded data removed]",
      "text/plain": [
       "<Figure size 432x360 with 1 Axes>"
      ]
     },
     "metadata": {
      "needs_background": "light"
     },
     "output_type": "display_data"
    }
   ],
   "source": [
    "fig, ax = plt.subplots()\n",
    "fig.set_size_inches((6, 5))\n",
    "colors = colormap(np.linspace(0, 1, 10))\n",
    "\n",
    "ax.plot(np.sin(dec_to_sim), gaussian_filter1d(flux[1], sigma=1.0), color=colors[2],\n",
    "            alpha=0.5, label=\"$\\gamma$ = 2.0\", linestyle='-', lw=6)\n",
    "ax.plot(np.sin(dec_to_sim), gaussian_filter1d(flux[2], sigma=1.0), color=colors[5],\n",
    "            alpha=0.5, label=\"$\\gamma$ = 2.19\", linestyle='-', lw=6)\n",
    "ax.plot(ic_2.T[0], ic_2.T[1], color=colors[2], linestyle='-', \n",
    "        label=\"Aartsen+2019 $\\gamma$ = 2.0\", lw=2)\n",
    "ax.plot(ic_2p19.T[0], ic_2p19.T[1], color=colors[5], linestyle='-', \n",
    "        label=\"Aartsen+2019 $\\gamma$ = 2.19\", lw=2)\n",
    "ax.set_yscale(\"log\")\n",
    "ax.set_ylim(1e-20, 1e-18)\n",
    "ax.legend()\n",
    "ax.set_xlabel(\"sin($\\delta$)\")\n",
    "ax.set_ylabel(\"$\\phi_\\mathrm{dp}$ / $\\mathrm{GeV}^{-1}\\mathrm{cm}^{-2}\\mathrm{s}^{-1}$\");\n",
    "ax.set_xlim(-0.1, 1);"
   ]
  },
  {
   "cell_type": "markdown",
   "metadata": {},
   "source": [
    "## Visualising the detection probability"
   ]
  },
  {
   "cell_type": "code",
   "execution_count": 8,
   "metadata": {
    "ExecuteTime": {
     "end_time": "2020-07-19T15:56:01.257717Z",
     "start_time": "2020-07-19T15:56:01.254866Z"
    }
   },
   "outputs": [],
   "source": [
    "from icecube_tools.neutrino_calculator import zSolver\n",
    "import matplotlib as mpl"
   ]
  },
  {
   "cell_type": "code",
   "execution_count": 9,
   "metadata": {
    "ExecuteTime": {
     "end_time": "2020-07-19T15:59:14.736455Z",
     "start_time": "2020-07-19T15:56:01.767298Z"
    }
   },
   "outputs": [],
   "source": [
    "phi = np.zeros((len(dec_to_sim), len(index_to_sim), len(Nsrc_list)))\n",
    "for i, dec in enumerate(dec_to_sim):\n",
    "    for j, index in enumerate(index_to_sim):\n",
    "        phi_tmp = [phi_solver(Nnu, np.rad2deg(dec), index) \n",
    "                   for Nnu in Nsrc_list]\n",
    "        phi[i][j] = phi_tmp"
   ]
  },
  {
   "cell_type": "code",
   "execution_count": 10,
   "metadata": {
    "ExecuteTime": {
     "end_time": "2020-07-19T15:59:14.782366Z",
     "start_time": "2020-07-19T15:59:14.739706Z"
    }
   },
   "outputs": [],
   "source": [
    "# For each dec and index, get bands of 0.4/0.6, 0.2/0.8 and 0/1\n",
    "Pdet_levels = np.linspace(0.000, 0.99, 10)\n",
    "potential = np.zeros((len(Pdet_levels), len(dec_to_sim), len(index_to_sim)))\n",
    "\n",
    "for p, pdet in enumerate(Pdet_levels):\n",
    "    for i, dec in enumerate(dec_to_sim):\n",
    "        for j, index in enumerate(index_to_sim):\n",
    "            phi_tmp = phi[i][j]\n",
    "            Pdet_dec_tmp = Pdet_dec[i][j]\n",
    "            phi_lim = phi_tmp[np.argmax(Pdet_dec_tmp)]\n",
    "            l = np.interp(pdet, Pdet_dec_tmp[phi_tmp<phi_lim], \n",
    "                          phi_tmp[phi_tmp<phi_lim])\n",
    "            potential[p][i][j] = l"
   ]
  },
  {
   "cell_type": "code",
   "execution_count": 11,
   "metadata": {
    "ExecuteTime": {
     "end_time": "2020-07-19T15:59:14.793204Z",
     "start_time": "2020-07-19T15:59:14.785144Z"
    }
   },
   "outputs": [],
   "source": [
    "potentials = np.zeros((len(Pdet_levels), len(index_to_sim), len(dec_to_sim)))\n",
    "for p, pdet in enumerate(Pdet_levels):\n",
    "    for j, index in enumerate(index_to_sim):\n",
    "        potentials[p][j] = gaussian_filter1d(potential[p].T[j], sigma=1.5)"
   ]
  },
  {
   "cell_type": "code",
   "execution_count": 12,
   "metadata": {
    "ExecuteTime": {
     "end_time": "2020-07-19T15:59:14.798750Z",
     "start_time": "2020-07-19T15:59:14.795847Z"
    }
   },
   "outputs": [],
   "source": [
    "# Fix constant rate and gamma to find proper L\n",
    "rate = 1e44 # s^-1\n",
    "Emin = 100 # TeV\n",
    "\n",
    "# Initialise redshift solver\n",
    "z_solver = zSolver(Emin)"
   ]
  },
  {
   "cell_type": "code",
   "execution_count": 13,
   "metadata": {
    "ExecuteTime": {
     "end_time": "2020-07-19T15:59:20.666394Z",
     "start_time": "2020-07-19T15:59:14.801359Z"
    }
   },
   "outputs": [
    {
     "name": "stderr",
     "output_type": "stream",
     "text": [
      "/Users/fran/.virtualenvs/bayes/lib/python3.7/site-packages/scipy/optimize/minpack.py:162: RuntimeWarning: The number of calls to function has reached maxfev = 400.\n",
      "  warnings.warn(msg, RuntimeWarning)\n"
     ]
    }
   ],
   "source": [
    "# Find redshift corresponding to phi_norm, rate and gamma\n",
    "redshift = np.zeros((len(Pdet_levels), len(index_to_sim), len(dec_to_sim)))\n",
    "for p, pdet in enumerate(Pdet_levels):\n",
    "    for j, index in enumerate(index_to_sim):\n",
    "        if index == 2.0:\n",
    "            index = 2.001 # To handle normalisation\n",
    "        L = z_solver.get_L(rate, index)\n",
    "        for i, dec in enumerate(dec_to_sim):\n",
    "            z_tmp = z_solver(potentials[p][j][i]*1e3, L, index, guess=0.1)\n",
    "            redshift[p][j][i] = z_tmp\n",
    "\n",
    "redshift[redshift>10] = 10"
   ]
  },
  {
   "cell_type": "markdown",
   "metadata": {},
   "source": [
    "### Fig. 3"
   ]
  },
  {
   "cell_type": "code",
   "execution_count": 14,
   "metadata": {
    "ExecuteTime": {
     "end_time": "2020-07-19T15:59:20.672788Z",
     "start_time": "2020-07-19T15:59:20.668896Z"
    }
   },
   "outputs": [],
   "source": [
    "origin = np.tile(0, len(dec_to_sim))\n",
    "\n",
    "dec_to_sim_f = dec_to_sim\n",
    "dec_to_sim_f[-1] = np.pi/2"
   ]
  },
  {
   "cell_type": "code",
   "execution_count": 15,
   "metadata": {
    "ExecuteTime": {
     "end_time": "2020-07-19T15:59:20.681422Z",
     "start_time": "2020-07-19T15:59:20.675396Z"
    }
   },
   "outputs": [],
   "source": [
    "colors = colormap(np.linspace(0, 1, 10))\n",
    "cmap_p = mpl.colors.LinearSegmentedColormap.from_list(\"custom\", ['w', colors[2]],\n",
    "                                                      N=len(Pdet_levels)) \n",
    "\n",
    "cmap_g = mpl.colors.LinearSegmentedColormap.from_list(\"custom\", ['w', colors[5]], \n",
    "                                                      N=len(Pdet_levels)) \n",
    "sm_p = plt.cm.ScalarMappable(cmap=cmap_p)\n",
    "sm_g = plt.cm.ScalarMappable(cmap=cmap_g)"
   ]
  },
  {
   "cell_type": "code",
   "execution_count": 16,
   "metadata": {
    "ExecuteTime": {
     "end_time": "2020-07-19T15:59:21.128037Z",
     "start_time": "2020-07-19T15:59:20.685831Z"
    }
   },
   "outputs": [
    {
     "data": {
      "text/plain": [
       "Text(0.017453292519943295, 1.95, 'Equator')"
      ]
     },
     "execution_count": 16,
     "metadata": {},
     "output_type": "execute_result"
    },
    {
     "data": {
      "image/png": "[encoded data removed]",
      "text/plain": [
       "<Figure size 432x288 with 2 Axes>"
      ]
     },
     "metadata": {
      "needs_background": "light"
     },
     "output_type": "display_data"
    }
   ],
   "source": [
    "fig = plt.figure()\n",
    "ax = fig.add_subplot(111, polar=True)\n",
    "ax.set_xlim(dec_to_sim[0], np.pi/2)\n",
    "ax.set_ylim(0, 2.5)\n",
    "ax.set_xlabel(\"$z$\", labelpad=15)\n",
    "for p, pdet in enumerate(Pdet_levels):\n",
    "    ax.fill_between(dec_to_sim_f, origin, redshift[p][1], \n",
    "                    color=cmap_p(p), lw=0)\n",
    "cbar = fig.colorbar(sm_p, ax=ax)\n",
    "ax.set_title(\"$\\gamma=2.0$\")\n",
    "cbar.ax.set_title(\"$P_\\mathrm{det}$\", pad=15)\n",
    "ax.grid(True, lw=1, alpha=0.5, linestyle='--')\n",
    "ax.text(np.deg2rad(88), 2.15, \"North\\nPole\")\n",
    "ax.text(np.deg2rad(1), 1.95, \"Equator\")"
   ]
  },
  {
   "cell_type": "code",
   "execution_count": 17,
   "metadata": {
    "ExecuteTime": {
     "end_time": "2020-07-19T15:59:21.545267Z",
     "start_time": "2020-07-19T15:59:21.130726Z"
    }
   },
   "outputs": [
    {
     "data": {
      "text/plain": [
       "Text(0.017453292519943295, 1.95, 'Equator')"
      ]
     },
     "execution_count": 17,
     "metadata": {},
     "output_type": "execute_result"
    },
    {
     "data": {
      "image/png": "[encoded data removed]",
      "text/plain": [
       "<Figure size 432x288 with 2 Axes>"
      ]
     },
     "metadata": {
      "needs_background": "light"
     },
     "output_type": "display_data"
    }
   ],
   "source": [
    "fig = plt.figure()\n",
    "ax = fig.add_subplot(111, polar=True)\n",
    "ax.set_xlim(dec_to_sim[0], dec_to_sim[-1])\n",
    "ax.set_ylim(0, 2.5)\n",
    "ax.set_xlabel(\"$z$\", labelpad=15)\n",
    "for p, pdet in enumerate(Pdet_levels):\n",
    "    ax.fill_between(dec_to_sim_f, origin, redshift[p][2], \n",
    "                    color=cmap_g(p), lw=0)\n",
    "cbar = fig.colorbar(sm_g, ax=ax)\n",
    "ax.set_title(\"$\\gamma=2.19$\")\n",
    "cbar.ax.set_title(\"$P_\\mathrm{det}$\", pad=15)\n",
    "ax.grid(True, lw=1, alpha=0.5, linestyle='--')\n",
    "ax.text(np.deg2rad(88), 2.15, \"North\\nPole\")\n",
    "ax.text(np.deg2rad(1), 1.95, \"Equator\")"
   ]
  },
  {
   "cell_type": "code",
   "execution_count": null,
   "metadata": {},
   "outputs": [],
   "source": []
  }
 ],
 "metadata": {
  "kernelspec": {
   "display_name": "bayes",
   "language": "python",
   "name": "bayes"
  },
  "language_info": {
   "codemirror_mode": {
    "name": "ipython",
    "version": 3
   },
   "file_extension": ".py",
   "mimetype": "text/x-python",
   "name": "python",
   "nbconvert_exporter": "python",
   "pygments_lexer": "ipython3",
   "version": "3.7.6"
  }
 },
 "nbformat": 4,
 "nbformat_minor": 2
}
