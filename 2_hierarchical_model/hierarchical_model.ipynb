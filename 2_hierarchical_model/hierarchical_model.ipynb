{
 "cells": [
  {
   "cell_type": "markdown",
   "metadata": {},
   "source": [
    "# Hierarchical model\n",
    "The hierarchical model is implemented in `Stan` as described in Section V of the paper. Here we show the case of a positive source evolution prior as an example, bu the extension to other cases is simple using the information in the paper to change the inputs. For the case of the unconstrained prior, use the stan model provided in `stan/nu_pop_model_unconst.stan`.\n",
    "\n",
    "The full fits generally take a few hours to run, and the samples used in the paper are also provided in `samples`, so it is possible to skip straight to the posterior section of this notebook."
   ]
  },
  {
   "cell_type": "code",
   "execution_count": 4,
   "metadata": {
    "ExecuteTime": {
     "end_time": "2020-07-19T17:10:37.181856Z",
     "start_time": "2020-07-19T17:10:37.178465Z"
    }
   },
   "outputs": [],
   "source": [
    "import numpy as np\n",
    "from matplotlib import pyplot as plt\n",
    "from matplotlib.pyplot import cm\n",
    "import h5py\n",
    "import stan_utility"
   ]
  },
  {
   "cell_type": "markdown",
   "metadata": {
    "ExecuteTime": {
     "end_time": "2020-07-19T16:07:35.304686Z",
     "start_time": "2020-07-19T16:07:34.477390Z"
    }
   },
   "source": [
    "## Setup\n",
    "Relevant for the positive and negative source evolution priors."
   ]
  },
  {
   "cell_type": "code",
   "execution_count": null,
   "metadata": {
    "ExecuteTime": {
     "end_time": "2020-07-19T16:22:31.341663Z",
     "start_time": "2020-07-19T16:22:31.338472Z"
    }
   },
   "outputs": [],
   "source": [
    "# Theta parameters for the positive prior (see Table II in the paper)\n",
    "p1 = 19.3\n",
    "p2 = 24.9\n",
    "zc = 1.76\n",
    "\n",
    "# Detector assumptions\n",
    "sigma_Phi = 0.25\n",
    "sigma_gamma = 0.1"
   ]
  },
  {
   "cell_type": "code",
   "execution_count": null,
   "metadata": {
    "ExecuteTime": {
     "end_time": "2020-07-19T16:58:56.075996Z",
     "start_time": "2020-07-19T16:58:56.061371Z"
    }
   },
   "outputs": [],
   "source": [
    "# Pdet parametrisation\n",
    "pdet_file = \"../1_detection_probability/output/pdet_params_Nevents497.h5\"\n",
    "with h5py.File(pdet_file, 'r') as f:\n",
    "    sindec_bins = f['sindec_bins'][()]\n",
    "    index_grid = f['index_grid'][()]\n",
    "    Pdet_cen = f['Pdet_cen'][()] * 1e3 # TeV cm^-2 s^-1 \n",
    "    Pdet_width = f['Pdet_width'][()]"
   ]
  },
  {
   "cell_type": "code",
   "execution_count": null,
   "metadata": {
    "ExecuteTime": {
     "end_time": "2020-07-19T16:59:00.215171Z",
     "start_time": "2020-07-19T16:59:00.203805Z"
    }
   },
   "outputs": [],
   "source": [
    "stan_model = \"stan/nu_pop_model.stan\"\n",
    "model = stan_utility.compile_model(filename=stan_model, \n",
    "                                   model_name=\"nu_pop_model\", include_paths=\"stan/\")"
   ]
  },
  {
   "cell_type": "code",
   "execution_count": null,
   "metadata": {
    "ExecuteTime": {
     "end_time": "2020-07-19T16:59:02.479462Z",
     "start_time": "2020-07-19T16:59:02.468987Z"
    }
   },
   "outputs": [],
   "source": [
    "fit_input = {}\n",
    "\n",
    "fit_input['gamma_det'] = 2.19\n",
    "fit_input['Emin'] = 10.0\n",
    "fit_input['Emax'] = 1.0e4\n",
    "fit_input['Enorm'] = 100.0\n",
    "fit_input['Ns_det'] = 0\n",
    "fit_input['Phi_norm_det'] = 1.01e-15 \n",
    "fit_input['zmin'] = 1e-10\n",
    "fit_input['zmax'] = 10\n",
    "\n",
    "fit_input['p1_mean'] = p1\n",
    "fit_input['p2_mean'] = p2\n",
    "fit_input['zc_mean'] = zc\n",
    "fit_input['p1_sd'] = 0.2\n",
    "fit_input['p2_sd'] = 0.2\n",
    "fit_input['zc_sd'] = 0.12\n",
    "\n",
    "fit_input['sigma_Phi'] = sigma_Phi\n",
    "fit_input['sigma_gamma'] = sigma_gamma\n",
    "\n",
    "fit_input['Nd'] = len(sindec_bins)-1\n",
    "fit_input['Ng'] = len(index_grid)\n",
    "fit_input['sindec_bins'] = sindec_bins\n",
    "fit_input['gamma_grid'] = index_grid\n",
    "fit_input['Pdet_cen'] = Pdet_cen\n",
    "fit_input['Pdet_width'] = Pdet_width\n",
    "\n",
    "fit_input['L_mean'] = np.log(1e42)\n",
    "fit_input['L_sd'] = 30.0\n",
    "fit_input['n0_mean'] = np.log(1e-6)\n",
    "fit_input['n0_sd'] = 30.0\n",
    "\n",
    "# To switch between separate limits (e.g. right panels of Fig. 6)\n",
    "fit_input['flux_only'] = 0\n",
    "fit_input['Ns_only'] = 0"
   ]
  },
  {
   "cell_type": "markdown",
   "metadata": {},
   "source": [
    "## Fit"
   ]
  },
  {
   "cell_type": "code",
   "execution_count": null,
   "metadata": {
    "ExecuteTime": {
     "end_time": "2020-07-19T16:39:21.367725Z",
     "start_time": "2020-07-19T16:32:57.853944Z"
    }
   },
   "outputs": [],
   "source": [
    "np.random.seed(42)\n",
    "inits = []\n",
    "for i in range(6):\n",
    "    inits.append({'n0' : 10**np.random.uniform(-8, -4), \n",
    "                  'L' : 10**np.random.uniform(37, 45)})\n",
    "    \n",
    "fit = model.sampling(data=fit_input, iter=1500, chains=6, \n",
    "                     warmup=500, seed=42, init=inits)"
   ]
  },
  {
   "cell_type": "code",
   "execution_count": null,
   "metadata": {
    "ExecuteTime": {
     "end_time": "2020-07-19T16:39:42.621213Z",
     "start_time": "2020-07-19T16:39:42.484662Z"
    }
   },
   "outputs": [],
   "source": [
    "fit"
   ]
  },
  {
   "cell_type": "code",
   "execution_count": null,
   "metadata": {
    "ExecuteTime": {
     "end_time": "2020-07-19T16:39:43.280860Z",
     "start_time": "2020-07-19T16:39:43.275794Z"
    }
   },
   "outputs": [],
   "source": [
    "chain = fit.extract(permuted = True)"
   ]
  },
  {
   "cell_type": "markdown",
   "metadata": {},
   "source": [
    "## Testing"
   ]
  },
  {
   "cell_type": "code",
   "execution_count": null,
   "metadata": {
    "ExecuteTime": {
     "end_time": "2020-07-19T16:39:43.927357Z",
     "start_time": "2020-07-19T16:39:43.924315Z"
    }
   },
   "outputs": [],
   "source": [
    "import corner"
   ]
  },
  {
   "cell_type": "code",
   "execution_count": null,
   "metadata": {
    "ExecuteTime": {
     "end_time": "2020-07-19T16:39:45.006882Z",
     "start_time": "2020-07-19T16:39:44.668318Z"
    }
   },
   "outputs": [],
   "source": [
    "key_list = ['L', 'n0']\n",
    "labels = [r'log10(L)', r'log10(n_0)']\n",
    "#truths = [np.log10(L), np.log10(n0)]\n",
    "\n",
    "corner.corner(np.column_stack([np.log10(chain[key]) for key in key_list]),\n",
    "              labels = labels,); "
   ]
  },
  {
   "cell_type": "code",
   "execution_count": null,
   "metadata": {},
   "outputs": [],
   "source": [
    "# Save to file\n",
    "with h5py.File('samples/positive_prior_v1.h5', 'w') as f:\n",
    "    for key in chain:\n",
    "        f.create_dataset(key, data=chain[key])"
   ]
  },
  {
   "cell_type": "markdown",
   "metadata": {},
   "source": [
    "## Posterior"
   ]
  },
  {
   "cell_type": "code",
   "execution_count": 5,
   "metadata": {
    "ExecuteTime": {
     "end_time": "2020-07-19T17:10:40.845965Z",
     "start_time": "2020-07-19T17:10:40.842475Z"
    }
   },
   "outputs": [],
   "source": [
    "import seaborn as sns\n",
    "from plotting.posterior_plot import PosteriorPlot\n",
    "from plotting.HPD_regions import HPD_contours\n",
    "import matplotlib.patches as mpatches\n",
    "TeV_to_erg = 1.60218"
   ]
  },
  {
   "cell_type": "code",
   "execution_count": 31,
   "metadata": {
    "ExecuteTime": {
     "end_time": "2020-07-19T17:13:58.123131Z",
     "start_time": "2020-07-19T17:13:58.112784Z"
    }
   },
   "outputs": [],
   "source": [
    "with h5py.File('samples/positive_prior.h5', 'r') as f:\n",
    "    L = np.log10(f['L'][()] * TeV_to_erg) # TeV s^-1 -> erg s^-1\n",
    "    n0 = np.log10(f['n0'][()])\n",
    "    p1 = f[\"p1\"][()]\n",
    "    p2 = f[\"p2\"][()]\n",
    "    zc = f[\"zc\"][()]\n",
    "    \n",
    "# Colours\n",
    "colors = plt.cm.viridis(np.linspace(0, 1, 10))\n",
    "c1 = colors[2]\n",
    "c2 = colors[0]"
   ]
  },
  {
   "cell_type": "markdown",
   "metadata": {},
   "source": [
    "### Fig. 6 "
   ]
  },
  {
   "cell_type": "code",
   "execution_count": 32,
   "metadata": {
    "ExecuteTime": {
     "end_time": "2020-07-19T17:14:07.476463Z",
     "start_time": "2020-07-19T17:13:58.944314Z"
    }
   },
   "outputs": [],
   "source": [
    "# Levels\n",
    "target_levels = [0.99, 0.9, 0.6, 0.3] \n",
    "levels = HPD_contours(L, n0, levels=target_levels, kde=True, bins=200)"
   ]
  },
  {
   "cell_type": "code",
   "execution_count": 33,
   "metadata": {
    "ExecuteTime": {
     "end_time": "2020-07-19T17:14:09.025251Z",
     "start_time": "2020-07-19T17:14:07.478742Z"
    }
   },
   "outputs": [
    {
     "data": {
      "text/plain": [
       "Text(0, 0.5, '$\\\\log_{10}(n_0 \\\\ / \\\\ \\\\mathrm{Mpc}^{-3})$')"
      ]
     },
     "execution_count": 33,
     "metadata": {},
     "output_type": "execute_result"
    },
    {
     "data": {
      "image/png": "[encoded data removed]",
      "text/plain": [
       "<Figure size 432x360 with 1 Axes>"
      ]
     },
     "metadata": {
      "needs_background": "light"
     },
     "output_type": "display_data"
    }
   ],
   "source": [
    "fig, ax = plt.subplots()\n",
    "fig.set_size_inches((6, 5))\n",
    "sns.kdeplot(L, n0, levels=levels, shade=True, color=c1)\n",
    "ax.set_xlim(35, 50)\n",
    "ax.set_ylim(-12, -2)\n",
    "ax.set_xlabel('$\\log_{10}(L \\ / \\ \\mathrm{erg} \\ \\mathrm{s^{-1}})$', \n",
    "              labelpad=10)\n",
    "ax.set_ylabel('$\\log_{10}(n_0 \\ / \\ \\mathrm{Mpc}^{-3})$')"
   ]
  },
  {
   "cell_type": "markdown",
   "metadata": {},
   "source": [
    "### Fig. 7"
   ]
  },
  {
   "cell_type": "code",
   "execution_count": 34,
   "metadata": {
    "ExecuteTime": {
     "end_time": "2020-07-19T17:14:11.652955Z",
     "start_time": "2020-07-19T17:14:11.649890Z"
    }
   },
   "outputs": [],
   "source": [
    "from helper_functions import SFR_density, agn_density, source_evolution"
   ]
  },
  {
   "cell_type": "code",
   "execution_count": 35,
   "metadata": {
    "ExecuteTime": {
     "end_time": "2020-07-19T17:14:12.116640Z",
     "start_time": "2020-07-19T17:14:12.105498Z"
    }
   },
   "outputs": [],
   "source": [
    "combined_param = p1 - p2/zc\n",
    "\n",
    "target_levels = [0.99, 0.9, 0.6, 0.3]\n",
    "combined_levels = HPD_contours(combined_param, n0, target_levels)"
   ]
  },
  {
   "cell_type": "code",
   "execution_count": 36,
   "metadata": {
    "ExecuteTime": {
     "end_time": "2020-07-19T17:14:14.126311Z",
     "start_time": "2020-07-19T17:14:12.569418Z"
    }
   },
   "outputs": [
    {
     "data": {
      "text/plain": [
       "Text(0, 0.5, '$\\\\log_{10}(n_0 \\\\ / \\\\ \\\\mathrm{Mpc}^{-3})$')"
      ]
     },
     "execution_count": 36,
     "metadata": {},
     "output_type": "execute_result"
    },
    {
     "data": {
      "image/png": "[encoded data removed]",
      "text/plain": [
       "<Figure size 432x288 with 1 Axes>"
      ]
     },
     "metadata": {
      "needs_background": "light"
     },
     "output_type": "display_data"
    }
   ],
   "source": [
    "fig, ax = plt.subplots()\n",
    "sns.kdeplot(combined_param, n0, levels=combined_levels, shade=True, color=colors[2])\n",
    "ax.set_ylim(-12, -2)\n",
    "ax.set_xlim(-7.5, 10)\n",
    "ax.set_xlabel('$p_1 - (p_2/z_c)$', labelpad=10)\n",
    "ax.set_ylabel('$\\log_{10}(n_0 \\ / \\ \\mathrm{Mpc}^{-3})$')"
   ]
  }
 ],
 "metadata": {
  "kernelspec": {
   "display_name": "bayes",
   "language": "python",
   "name": "bayes"
  },
  "language_info": {
   "codemirror_mode": {
    "name": "ipython",
    "version": 3
   },
   "file_extension": ".py",
   "mimetype": "text/x-python",
   "name": "python",
   "nbconvert_exporter": "python",
   "pygments_lexer": "ipython3",
   "version": "3.7.6"
  }
 },
 "nbformat": 4,
 "nbformat_minor": 2
}
